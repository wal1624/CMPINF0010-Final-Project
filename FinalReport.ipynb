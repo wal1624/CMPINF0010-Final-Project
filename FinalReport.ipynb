{
 "cells": [
  {
   "cell_type": "markdown",
   "metadata": {},
   "source": [
    "Introduction:"
   ]
  },
  {
   "cell_type": "markdown",
   "metadata": {},
   "source": [
    "Our Metric: Talk about the \"greenest\" neighborhood/ more environmental etc."
   ]
  },
  {
   "cell_type": "markdown",
   "metadata": {},
   "source": [
    "Code to find this metric with narrative (long part)"
   ]
  },
  {
   "cell_type": "code",
   "execution_count": 1,
   "metadata": {},
   "outputs": [],
   "source": [
    "import pandas as pd\n",
    "import numpy as np\n",
    "%matplotlib inline\n",
    "import matplotlib.pyplot as plt\n",
    "import geopandas\n"
   ]
  },
  {
   "cell_type": "markdown",
   "metadata": {},
   "source": [
    "## Trees Dataset Manipulation:"
   ]
  },
  {
   "cell_type": "code",
   "execution_count": 2,
   "metadata": {},
   "outputs": [
    {
     "name": "stderr",
     "output_type": "stream",
     "text": [
      "/opt/tljh/user/lib/python3.8/site-packages/IPython/core/interactiveshell.py:3071: DtypeWarning: Columns (1) have mixed types.Specify dtype option on import or set low_memory=False.\n",
      "  has_raised = await self.run_ast_nodes(code_ast.body, cell_name,\n"
     ]
    },
    {
     "data": {
      "text/html": [
       "<div>\n",
       "<style scoped>\n",
       "    .dataframe tbody tr th:only-of-type {\n",
       "        vertical-align: middle;\n",
       "    }\n",
       "\n",
       "    .dataframe tbody tr th {\n",
       "        vertical-align: top;\n",
       "    }\n",
       "\n",
       "    .dataframe thead th {\n",
       "        text-align: right;\n",
       "    }\n",
       "</style>\n",
       "<table border=\"1\" class=\"dataframe\">\n",
       "  <thead>\n",
       "    <tr style=\"text-align: right;\">\n",
       "      <th></th>\n",
       "      <th>neighborhood</th>\n",
       "      <th>number_of_trees</th>\n",
       "      <th>acres</th>\n",
       "      <th>trees_per_acre</th>\n",
       "    </tr>\n",
       "  </thead>\n",
       "  <tbody>\n",
       "    <tr>\n",
       "      <th>0</th>\n",
       "      <td>Allegheny Center</td>\n",
       "      <td>867</td>\n",
       "      <td>134.703</td>\n",
       "      <td>6.436382</td>\n",
       "    </tr>\n",
       "    <tr>\n",
       "      <th>33</th>\n",
       "      <td>Friendship</td>\n",
       "      <td>362</td>\n",
       "      <td>68.297</td>\n",
       "      <td>5.300379</td>\n",
       "    </tr>\n",
       "    <tr>\n",
       "      <th>1</th>\n",
       "      <td>Allegheny West</td>\n",
       "      <td>386</td>\n",
       "      <td>90.841</td>\n",
       "      <td>4.249183</td>\n",
       "    </tr>\n",
       "    <tr>\n",
       "      <th>18</th>\n",
       "      <td>Central Northside</td>\n",
       "      <td>674</td>\n",
       "      <td>166.475</td>\n",
       "      <td>4.048656</td>\n",
       "    </tr>\n",
       "    <tr>\n",
       "      <th>48</th>\n",
       "      <td>Manchester</td>\n",
       "      <td>707</td>\n",
       "      <td>179.566</td>\n",
       "      <td>3.937271</td>\n",
       "    </tr>\n",
       "    <tr>\n",
       "      <th>39</th>\n",
       "      <td>Highland Park</td>\n",
       "      <td>2941</td>\n",
       "      <td>747.691</td>\n",
       "      <td>3.933443</td>\n",
       "    </tr>\n",
       "    <tr>\n",
       "      <th>28</th>\n",
       "      <td>East Liberty</td>\n",
       "      <td>1366</td>\n",
       "      <td>373.650</td>\n",
       "      <td>3.655828</td>\n",
       "    </tr>\n",
       "    <tr>\n",
       "      <th>65</th>\n",
       "      <td>Regent Square</td>\n",
       "      <td>434</td>\n",
       "      <td>123.682</td>\n",
       "      <td>3.508999</td>\n",
       "    </tr>\n",
       "    <tr>\n",
       "      <th>23</th>\n",
       "      <td>Crawford-Roberts</td>\n",
       "      <td>568</td>\n",
       "      <td>166.101</td>\n",
       "      <td>3.419606</td>\n",
       "    </tr>\n",
       "    <tr>\n",
       "      <th>49</th>\n",
       "      <td>Marshall-Shadeland</td>\n",
       "      <td>488</td>\n",
       "      <td>148.209</td>\n",
       "      <td>3.292648</td>\n",
       "    </tr>\n",
       "  </tbody>\n",
       "</table>\n",
       "</div>"
      ],
      "text/plain": [
       "          neighborhood  number_of_trees    acres  trees_per_acre\n",
       "0     Allegheny Center              867  134.703        6.436382\n",
       "33          Friendship              362   68.297        5.300379\n",
       "1       Allegheny West              386   90.841        4.249183\n",
       "18   Central Northside              674  166.475        4.048656\n",
       "48          Manchester              707  179.566        3.937271\n",
       "39       Highland Park             2941  747.691        3.933443\n",
       "28        East Liberty             1366  373.650        3.655828\n",
       "65       Regent Square              434  123.682        3.508999\n",
       "23    Crawford-Roberts              568  166.101        3.419606\n",
       "49  Marshall-Shadeland              488  148.209        3.292648"
      ]
     },
     "execution_count": 2,
     "metadata": {},
     "output_type": "execute_result"
    }
   ],
   "source": [
    "# This takes tree data from wprdc and shrinks colums\n",
    "full_trees = pd.read_csv(\"https://data.wprdc.org/datastore/dump/1515a93c-73e3-4425-9b35-1cd11b2196da\")\n",
    "trees = full_trees[['common_name', 'height','condition','neighborhood','air_quality_benfits_total_dollar_value']].copy()\n",
    "# This takes in neighborhood dataset from wprdc\n",
    "acres = pd.read_csv(\"https://data.wprdc.org/datastore/dump/668d7238-cfd2-492e-b397-51a6e74182ff\")\n",
    "acres = acres [['hood', 'acres']] #This shrinks dataframe so we just have a neighborhood ('hood') --> acres correlation\n",
    "\n",
    "# This shrinks the trees data set and then counts the occurances of each neighborhood to get trees per neighborhood\n",
    "trees_per_neighborhood = full_trees [['neighborhood', 'id']] # neighborhood --> id correlation\n",
    "trees_per_neighborhood = trees_per_neighborhood.rename({'id':'number_of_trees'}, axis = 1)\n",
    "trees_per_neighborhood = trees_per_neighborhood.groupby('neighborhood').count()\n",
    "\n",
    "\n",
    "#merges the acres data set with the trees_per_neighborhood for future caluculation\n",
    "trees_per_acre_per_neighborhood = trees_per_neighborhood.merge(acres, how='inner', left_on='neighborhood',\n",
    "                                                              right_on = 'hood')\n",
    "trees_per_acre_per_neighborhood = trees_per_acre_per_neighborhood[['hood','number_of_trees','acres']]\n",
    "trees_per_acre_per_neighborhood = trees_per_acre_per_neighborhood.rename({'hood':'neighborhood'}, axis=1)\n",
    "\n",
    "#for some reason perry North (row 60) has 0 acres in the dataset so I manually found it on wikipedia\n",
    "trees_per_acre_per_neighborhood.at[60, 'acres'] = 775.68  \n",
    "\n",
    "\n",
    "# adds new colum wich divides num of trees by acres to get trees per acre (the final metric for this calculation)\n",
    "trees_per_acre_per_neighborhood['trees_per_acre'] = trees_per_acre_per_neighborhood['number_of_trees'] / trees_per_acre_per_neighborhood['acres']\n",
    "trees_per_acre_per_neighborhood = trees_per_acre_per_neighborhood.sort_values(by = 'trees_per_acre', ascending = False)\n",
    "\n",
    "\n",
    "trees_per_acre_per_neighborhood.head(10)"
   ]
  },
  {
   "cell_type": "markdown",
   "metadata": {},
   "source": [
    "Dataset 2 Title"
   ]
  },
  {
   "cell_type": "code",
   "execution_count": 3,
   "metadata": {},
   "outputs": [],
   "source": [
    "# Dataset 2 code"
   ]
  },
  {
   "cell_type": "code",
   "execution_count": null,
   "metadata": {},
   "outputs": [],
   "source": [
    "Dataset 3 Title"
   ]
  },
  {
   "cell_type": "code",
   "execution_count": 5,
   "metadata": {},
   "outputs": [],
   "source": [
    "# Dataset 3 code"
   ]
  },
  {
   "cell_type": "markdown",
   "metadata": {},
   "source": [
    "# The *Green* metric"
   ]
  },
  {
   "cell_type": "code",
   "execution_count": 7,
   "metadata": {},
   "outputs": [],
   "source": [
    "#code that will make one table with all metric and add them to create final metric\n",
    "#find highest neighborhood with that metric and plot all neighborhoods"
   ]
  },
  {
   "cell_type": "markdown",
   "metadata": {},
   "source": [
    "# Conclusion\n",
    "## 1:\n",
    "[...]\n",
    "## 2:\n",
    "[...]\n",
    "## 3:\n",
    "[...]\n",
    "\n",
    "we each need to do a conclusion on how the neighborhood we calculated compares\n",
    "to our person favorite neighborhood"
   ]
  },
  {
   "cell_type": "code",
   "execution_count": null,
   "metadata": {},
   "outputs": [],
   "source": []
  }
 ],
 "metadata": {
  "kernelspec": {
   "display_name": "Python 3",
   "language": "python",
   "name": "python3"
  },
  "language_info": {
   "codemirror_mode": {
    "name": "ipython",
    "version": 3
   },
   "file_extension": ".py",
   "mimetype": "text/x-python",
   "name": "python",
   "nbconvert_exporter": "python",
   "pygments_lexer": "ipython3",
   "version": "3.8.3"
  }
 },
 "nbformat": 4,
 "nbformat_minor": 4
}
